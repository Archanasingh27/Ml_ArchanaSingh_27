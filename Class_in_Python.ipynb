{
  "nbformat": 4,
  "nbformat_minor": 0,
  "metadata": {
    "colab": {
      "provenance": [],
      "include_colab_link": true
    },
    "kernelspec": {
      "name": "python3",
      "display_name": "Python 3"
    },
    "language_info": {
      "name": "python"
    }
  },
  "cells": [
    {
      "cell_type": "markdown",
      "metadata": {
        "id": "view-in-github",
        "colab_type": "text"
      },
      "source": [
        "<a href=\"https://colab.research.google.com/github/Archanasingh27/Ml_ArchanaSingh_27/blob/main/Class_in_Python.ipynb\" target=\"_parent\"><img src=\"https://colab.research.google.com/assets/colab-badge.svg\" alt=\"Open In Colab\"/></a>"
      ]
    },
    {
      "cell_type": "code",
      "execution_count": 1,
      "metadata": {
        "id": "SpUwfGWw21vx",
        "colab": {
          "base_uri": "https://localhost:8080/"
        },
        "outputId": "cf14e097-0def-45cc-b1bd-ef79fabf7b7a"
      },
      "outputs": [
        {
          "output_type": "stream",
          "name": "stdout",
          "text": [
            "Car: Toyota Corolla (2022)\n",
            "Car: Tesla Model S (2023)\n"
          ]
        }
      ],
      "source": [
        "# Defining a class\n",
        "class Car:\n",
        "    # Constructor (__init__ method)\n",
        "    def __init__(self, brand, model, year):\n",
        "        self.brand = brand  # Attribute\n",
        "        self.model = model  # Attribute\n",
        "        self.year = year    # Attribute\n",
        "\n",
        "    # Method to display car details\n",
        "    def display_info(self):\n",
        "        print(f\"Car: {self.brand} {self.model} ({self.year})\")\n",
        "\n",
        "# Creating objects of the Car class\n",
        "car1 = Car(\"Toyota\", \"Corolla\", 2022)\n",
        "car2 = Car(\"Tesla\", \"Model S\", 2023)\n",
        "\n",
        "# Accessing methods and attributes\n",
        "car1.display_info()  # Output: Car: Toyota Corolla (2022)\n",
        "car2.display_info()  # Output: Car: Tesla Model S (2023)\n"
      ]
    },
    {
      "cell_type": "code",
      "source": [
        "class Employee:\n",
        "    def __init__(self, name, salary):\n",
        "        self.name = name\n",
        "        self.salary = salary\n",
        "\n",
        "    def get_annual_salary(self):\n",
        "        return self.salary * 12\n",
        "\n",
        "# Creating an object\n",
        "emp = Employee(\"John\", 5000)\n",
        "\n",
        "print(f\"Annual Salary of {emp.name}: {emp.get_annual_salary()}\")\n"
      ],
      "metadata": {
        "id": "MALFoGl73VaA",
        "colab": {
          "base_uri": "https://localhost:8080/"
        },
        "outputId": "36d4ac08-1e55-485d-806d-289e47f94383"
      },
      "execution_count": 2,
      "outputs": [
        {
          "output_type": "stream",
          "name": "stdout",
          "text": [
            "Annual Salary of John: 60000\n"
          ]
        }
      ]
    },
    {
      "cell_type": "code",
      "source": [
        "class Student:\n",
        "    def __init__(self, name, age, marks):\n",
        "        self.name = name\n",
        "        self.age = age\n",
        "        self.marks = marks\n",
        "\n",
        "    def display(self):\n",
        "        print(f\"Name: {self.name}, Age: {self.age}, Marks: {self.marks}\")\n",
        "\n",
        "# List of students\n",
        "students = [\n",
        "    Student(\"Alice\", 20, 85),\n",
        "    Student(\"Bob\", 21, 90),\n",
        "    Student(\"Charlie\", 22, 88)\n",
        "]\n",
        "\n",
        "# Loop to display details\n",
        "for student in students:\n",
        "    student.display()\n"
      ],
      "metadata": {
        "colab": {
          "base_uri": "https://localhost:8080/"
        },
        "id": "cjnB-4Pd4vVk",
        "outputId": "6ff1809c-9f71-4931-954c-e24516e3e2e0"
      },
      "execution_count": 3,
      "outputs": [
        {
          "output_type": "stream",
          "name": "stdout",
          "text": [
            "Name: Alice, Age: 20, Marks: 85\n",
            "Name: Bob, Age: 21, Marks: 90\n",
            "Name: Charlie, Age: 22, Marks: 88\n"
          ]
        }
      ]
    },
    {
      "cell_type": "markdown",
      "source": [
        "https://tinyurl.com/classinpy"
      ],
      "metadata": {
        "id": "o1bzyke8GK3S"
      }
    },
    {
      "cell_type": "code",
      "source": [
        "class Store:\n",
        "    def __init__(self):\n",
        "        self.inventory = {}\n",
        "\n",
        "    def add_product(self, name, price):\n",
        "        self.inventory[name] = price\n",
        "\n",
        "    def display_products(self):\n",
        "        for product, price in self.inventory.items():\n",
        "            print(f\"Product: {product}, Price: {price}\")\n",
        "\n",
        "# Creating Store object\n",
        "shop = Store()\n",
        "shop.add_product(\"Laptop\", 50000)\n",
        "shop.add_product(\"Mouse\", 1000)\n",
        "shop.add_product(\"Keyboard\", 1500)\n",
        "\n",
        "# Display products\n",
        "shop.display_products()\n"
      ],
      "metadata": {
        "id": "82PRpeDH7lWT",
        "colab": {
          "base_uri": "https://localhost:8080/"
        },
        "outputId": "e2039964-33d2-48b2-fa96-ff188bc6bcc7"
      },
      "execution_count": 4,
      "outputs": [
        {
          "output_type": "stream",
          "name": "stdout",
          "text": [
            "Product: Laptop, Price: 50000\n",
            "Product: Mouse, Price: 1000\n",
            "Product: Keyboard, Price: 1500\n"
          ]
        }
      ]
    },
    {
      "cell_type": "markdown",
      "source": [],
      "metadata": {
        "id": "EoYy_wugGKKy"
      }
    },
    {
      "cell_type": "code",
      "source": [
        "class Members:\n",
        "    def __init__(self, member_name, surname, profession):\n",
        "        self.member_name = member_name\n",
        "        self.surname = surname\n",
        "        self.profession = profession\n",
        "\n",
        "# List of members\n",
        "members_list = [\n",
        "    Members(\"Archana\", \"Singh\", \"student\"),\n",
        "    Members(\"Divya\", \"Singh\", \"student\"),\n",
        "    Members(\"Prabhat\", \"Singh\", \"student\")\n",
        "]\n",
        "\n",
        "# Display member details\n",
        "for mem in members_list:\n",
        "    print(f\"Name: {mem.member_name} {mem.surname}, Profession: {mem.profession}\")"
      ],
      "metadata": {
        "colab": {
          "base_uri": "https://localhost:8080/"
        },
        "id": "P4L76Lef6jkp",
        "outputId": "f0ee6e93-c42f-471d-a638-18d273e6a6e7"
      },
      "execution_count": 6,
      "outputs": [
        {
          "output_type": "stream",
          "name": "stdout",
          "text": [
            "Name: Archana Singh, Profession: student\n",
            "Name: Divya Singh, Profession: student\n",
            "Name: Prabhat Singh, Profession: student\n"
          ]
        }
      ]
    }
  ]
}